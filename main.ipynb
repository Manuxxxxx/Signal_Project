{
 "cells": [
  {
   "cell_type": "code",
   "execution_count": null,
   "metadata": {},
   "outputs": [],
   "source": [
    "import imgTransformations\n",
    "import utils_jupyter\n",
    "import utils\n",
    "\n",
    "import os\n",
    "\n",
    "import cv2\n",
    "import numpy as np\n",
    "import matplotlib.pyplot as plt\n",
    "\n",
    "from skimage.metrics import structural_similarity as ssim\n",
    "from skimage.metrics import peak_signal_noise_ratio as psnr"
   ]
  },
  {
   "cell_type": "code",
   "execution_count": null,
   "metadata": {},
   "outputs": [],
   "source": [
    "dirname = os.path.abspath('')\n",
    "folder = os.path.join(dirname, 'MEFDatabase/source image sequences/')\n",
    "images = [] \n",
    "\n",
    "# Pass the images list to the interactive selector\n",
    "utils_jupyter.interactive_image_selector(folder, images)"
   ]
  },
  {
   "cell_type": "markdown",
   "metadata": {},
   "source": [
    "Definisci qua i metodi e inseriscili nel dizionario qua sotto, NON CAMBIARE I NOMI"
   ]
  },
  {
   "cell_type": "code",
   "execution_count": null,
   "metadata": {},
   "outputs": [],
   "source": [
    "methods = {\n",
    "    'Average Fusion': imgTransformations.average_fusion,\n",
    "    'Mertens Fusion': imgTransformations.mertens_fusion,\n",
    "    'Laplacian Pyramid': imgTransformations.laplacian_pyramid_fusion,\n",
    "    'Exposure Fusion' : imgTransformations.exposure_fusion,\n",
    "    'Exposure Compensation': imgTransformations.exposure_compensation_fusion,\n",
    "    'Enhanced Exposure': imgTransformations.enhanced_exposure_fusion,\n",
    "    'Domain Transform': imgTransformations.domain_transform_fusion,\n",
    "    'Domain Transform - Homebrew': imgTransformations.domain_transform_fusion,\n",
    "    'Wavelet Fusion': imgTransformations.wavelet_fusion\n",
    "}"
   ]
  },
  {
   "cell_type": "code",
   "execution_count": null,
   "metadata": {},
   "outputs": [],
   "source": [
    "utils_jupyter.showcase_methods_tab(images, methods)"
   ]
  },
  {
   "cell_type": "code",
   "execution_count": null,
   "metadata": {},
   "outputs": [],
   "source": [
    "def calculate_weight_maps(img):\n",
    "    epsilon = 1e-6\n",
    "\n",
    "    guidance = img.astype(np.float32) / 255.0\n",
    "\n",
    "    gray = cv2.cvtColor((img * 255).astype(np.uint8), cv2.COLOR_RGB2GRAY)\n",
    "    contrast = np.abs(cv2.Laplacian(gray, cv2.CV_32F))\n",
    "\n",
    "    saturation = np.std(img, axis=2)\n",
    "\n",
    "    well_exposedness = np.exp(-0.5 * ((img - 0.5) / 0.2) ** 2)\n",
    "    well_exposedness = np.prod(well_exposedness, axis=2)\n",
    "\n",
    "    weight = (contrast + epsilon) * (saturation + epsilon) * (well_exposedness + epsilon)\n",
    "\n",
    "    # Apply Homebrew Domain Transform filter\n",
    "    smooth_weight_homebrew = imgTransformations.dt_filter_homebrew(guidance, weight, sigmaSpatial=60, sigmaColor=0.4, num_iterations=2)\n",
    "\n",
    "    # Apply OpenCV's dtFilter\n",
    "    smooth_weight_opencv = cv2.ximgproc.dtFilter(img, weight.astype(np.float32), sigmaSpatial=60, sigmaColor=0.4, mode=1)\n",
    "    \n",
    "    return weight, smooth_weight_homebrew, smooth_weight_opencv\n",
    "\n",
    "\n",
    "utils_jupyter.showcase_weight_maps_tab(images, calculate_weight_maps)\n",
    "\n"
   ]
  },
  {
   "cell_type": "code",
   "execution_count": null,
   "metadata": {},
   "outputs": [],
   "source": [
    "#comparison between homebrew and opencv dt filter\n",
    "title, fused = imgTransformations.domain_transform_fusion(images, homebrew_dt=False)\n",
    "title_hb, fused_hb = imgTransformations.domain_transform_fusion(images, homebrew_dt=True)\n",
    "\n",
    "plt.figure(figsize=(18, 5))\n",
    "plt.subplot(1, 2, 1)\n",
    "plt.imshow(fused)\n",
    "plt.title(title)\n",
    "plt.axis('off')\n",
    "\n",
    "plt.subplot(1, 2, 2)\n",
    "plt.imshow(fused_hb)\n",
    "plt.title(title_hb)\n",
    "plt.axis('off')"
   ]
  },
  {
   "cell_type": "code",
   "execution_count": null,
   "metadata": {},
   "outputs": [],
   "source": [
    "def calculate_entropy(image):\n",
    "    \"\"\"Calculates entropy for an RGB image by averaging entropy across channels.\"\"\"\n",
    "    entropy_values = []\n",
    "    for channel in range(image.shape[-1]):  # Loop through R, G, B channels\n",
    "        hist, _ = np.histogram(image[:, :, channel].ravel(), bins=256, range=(0, 256))\n",
    "        hist = hist.astype(np.float32) / hist.sum()\n",
    "        hist = hist[hist > 0]  # Remove zero probabilities\n",
    "        entropy_values.append(-np.sum(hist * np.log2(hist)))\n",
    "    return np.mean(entropy_values)  # Average entropy across channels\n",
    "\n",
    "def spatial_frequency(image):\n",
    "    \"\"\"Calculates spatial frequency for an RGB image.\"\"\"\n",
    "    sf_values = []\n",
    "    for channel in range(image.shape[-1]):  # Compute SF for each color channel\n",
    "        rows, cols = image.shape[:2]\n",
    "        row_freq = np.sqrt(np.sum(np.diff(image[:, :, channel], axis=0) ** 2) / (rows * cols))\n",
    "        col_freq = np.sqrt(np.sum(np.diff(image[:, :, channel], axis=1) ** 2) / (rows * cols))\n",
    "        sf_values.append(np.sqrt(row_freq**2 + col_freq**2))\n",
    "    return np.mean(sf_values)  # Average SF across channels"
   ]
  },
  {
   "cell_type": "code",
   "execution_count": null,
   "metadata": {},
   "outputs": [],
   "source": [
    "def calculate_metrics_comparison(img1, img2):\n",
    "    \"\"\"Calculate similarity metrics between two images\"\"\"\n",
    "    if img1.shape != img2.shape:\n",
    "        img2 = cv2.resize(img2, (img1.shape[1], img1.shape[0]))\n",
    "    \n",
    "    # Convert to grayscale for SSIM/PSNR\n",
    "    gray1 = cv2.cvtColor(img1, cv2.COLOR_RGB2GRAY)\n",
    "    gray2 = cv2.cvtColor(img2, cv2.COLOR_RGB2GRAY)\n",
    "    \n",
    "    # Calculate SSIM\n",
    "    ssim_value = ssim(gray1, gray2, data_range=255)\n",
    "    \n",
    "    # Calculate PSNR with error handling\n",
    "    mse = np.mean((gray1 - gray2) ** 2)\n",
    "    if mse == 0:\n",
    "        psnr_value = np.inf\n",
    "    else:\n",
    "        with np.errstate(divide='ignore'):\n",
    "            psnr_value = 20 * np.log10(255) - 10 * np.log10(mse)\n",
    "    \n",
    "    return ssim_value, psnr_value\n",
    "\n",
    "utils_jupyter.compare_methods_and_metrics(spatial_frequency, calculate_entropy, calculate_metrics_comparison, images, methods)"
   ]
  },
  {
   "cell_type": "code",
   "execution_count": null,
   "metadata": {},
   "outputs": [],
   "source": [
    "def compute_difference(image1, image2):\n",
    "    \"\"\"Compute absolute difference between two images.\"\"\"\n",
    "    return cv2.absdiff(image1, image2)\n",
    "\n",
    "def show_heatmap(diff_image):\n",
    "    \"\"\"Display a heatmap of the differences.\"\"\"\n",
    "    diff_gray = cv2.cvtColor(diff_image, cv2.COLOR_RGB2GRAY)\n",
    "    plt.imshow(diff_gray, cmap='hot', interpolation='nearest')\n",
    "    plt.colorbar()\n",
    "    plt.title(\"Difference Heatmap\")\n",
    "    plt.show()\n",
    "\n",
    "utils_jupyter.compare_methods_display(images, compute_difference, show_heatmap, methods)"
   ]
  }
 ],
 "metadata": {
  "kernelspec": {
   "display_name": ".venv",
   "language": "python",
   "name": "python3"
  },
  "language_info": {
   "codemirror_mode": {
    "name": "ipython",
    "version": 3
   },
   "file_extension": ".py",
   "mimetype": "text/x-python",
   "name": "python",
   "nbconvert_exporter": "python",
   "pygments_lexer": "ipython3",
   "version": "3.13.2"
  }
 },
 "nbformat": 4,
 "nbformat_minor": 4
}
